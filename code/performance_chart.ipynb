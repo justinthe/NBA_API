{
 "cells": [
  {
   "cell_type": "code",
   "execution_count": 2,
   "metadata": {},
   "outputs": [],
   "source": [
    "import seaborn as sns\n",
    "from matplotlib import pyplot as plt\n",
    "import pandas as pd\n",
    "from matplotlib import ticker as ticker\n",
    "import requests"
   ]
  },
  {
   "cell_type": "code",
   "execution_count": 3,
   "metadata": {},
   "outputs": [],
   "source": [
    "RAPIDAPI_KEY = \"06e7a2971emsh9fe8d7e01017049p1fbbd0jsn61eeecf7d385\"\n",
    "RAPIDAPI_HOST = \"api-nba-v1.p.rapidapi.com\""
   ]
  },
  {
   "cell_type": "code",
   "execution_count": 4,
   "metadata": {},
   "outputs": [],
   "source": [
    "season_string = \"\"\n",
    "inputdata = dict()\n",
    "inputdata[\"Teams\"] = list()\n",
    "inputdata[\"Result\"] = list()\n",
    "inputdata[\"Win-Loss\"] = list()"
   ]
  },
  {
   "cell_type": "code",
   "execution_count": 11,
   "metadata": {},
   "outputs": [],
   "source": [
    "def fetchStandingData(year):\n",
    "    response = requests.get(\"https://api-nba-vl.p.rapidapi.com/standings/standard/\"+year, \n",
    "                           headers={\n",
    "                               \"X-RapidAPI-Host\": RAPIDAPI_HOST,\n",
    "                               \"X-RapidAPI-Key\": RAPIDAPI_KEY\n",
    "                           })\n",
    "    if(response.status_code == 200):\n",
    "        return response.json()\n",
    "    else:\n",
    "        \n",
    "        return None"
   ]
  },
  {
   "cell_type": "code",
   "execution_count": 12,
   "metadata": {},
   "outputs": [],
   "source": [
    "response = fetchStandingData(\"2018\")"
   ]
  },
  {
   "cell_type": "code",
   "execution_count": null,
   "metadata": {},
   "outputs": [],
   "source": []
  }
 ],
 "metadata": {
  "kernelspec": {
   "display_name": "Python 3",
   "language": "python",
   "name": "python3"
  },
  "language_info": {
   "codemirror_mode": {
    "name": "ipython",
    "version": 3
   },
   "file_extension": ".py",
   "mimetype": "text/x-python",
   "name": "python",
   "nbconvert_exporter": "python",
   "pygments_lexer": "ipython3",
   "version": "3.6.7"
  }
 },
 "nbformat": 4,
 "nbformat_minor": 2
}

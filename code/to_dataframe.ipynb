{
 "cells": [
  {
   "cell_type": "code",
   "execution_count": 1,
   "metadata": {},
   "outputs": [],
   "source": [
    "import pandas as pd\n",
    "import json"
   ]
  },
  {
   "cell_type": "code",
   "execution_count": 26,
   "metadata": {},
   "outputs": [],
   "source": [
    "def resetDict():\n",
    "    # instantiate dictionary for dataframe\n",
    "    games = dict()\n",
    "    games[\"gameId\"] = list()\n",
    "    games[\"teamId\"] = list()\n",
    "    games[\"playerId\"] = list()\n",
    "    games[\"min\"] = list()\n",
    "    games[\"fgm\"] = list()\n",
    "    games[\"fga\"] = list()\n",
    "    games[\"ftm\"] = list()\n",
    "    games[\"fta\"] = list()\n",
    "    games[\"tpm\"] = list()\n",
    "    games[\"tpa\"] = list()\n",
    "    games[\"offReb\"] = list()\n",
    "    games[\"defReb\"] = list()\n",
    "    games[\"assists\"] = list()\n",
    "    games[\"steals\"] = list()\n",
    "    games[\"blocks\"] = list()\n",
    "    games[\"pFouls\"] = list()\n",
    "    games[\"turnovers\"] = list()\n",
    "    games[\"plusMinus\"] = list()\n",
    "#     print(\"resetDict\")\n",
    "    return games\n",
    "\n",
    "def fillDataFrame(games, json_file):\n",
    "    for raw_data in json_file:\n",
    "        dat = raw_data[\"api\"][\"statistics\"]\n",
    "        for d in dat:\n",
    "            games[\"gameId\"].append(d[\"gameId\"])\n",
    "            games[\"teamId\"].append(d[\"teamId\"])\n",
    "            games[\"playerId\"].append(d[\"playerId\"])\n",
    "            games[\"min\"].append(d[\"min\"])\n",
    "            games[\"fgm\"].append(d[\"fgm\"])\n",
    "            games[\"fga\"].append(d[\"fga\"])\n",
    "            games[\"ftm\"].append(d[\"ftm\"])\n",
    "            games[\"fta\"].append(d[\"fta\"])\n",
    "            games[\"tpm\"].append(d[\"tpm\"])\n",
    "            games[\"tpa\"].append(d[\"tpa\"])\n",
    "            games[\"offReb\"].append(d[\"offReb\"])\n",
    "            games[\"defReb\"].append(d[\"defReb\"])\n",
    "            games[\"assists\"].append(d[\"assists\"])\n",
    "            games[\"steals\"].append(d[\"steals\"])\n",
    "            games[\"blocks\"].append(d[\"blocks\"])\n",
    "            games[\"pFouls\"].append(d[\"pFouls\"])\n",
    "            games[\"turnovers\"].append(d[\"turnovers\"])\n",
    "            games[\"plusMinus\"].append(d[\"plusMinus\"])\n",
    "    \n",
    "    df = pd.DataFrame(games)\n",
    "#     print(df.dtypes)\n",
    "    return df\n",
    "\n",
    "def toIntMin(pStr):\n",
    "    pStr = pStr.strip()\n",
    "    if pStr == \"\":\n",
    "        return 0\n",
    "    elif len(pStr) < 1:\n",
    "        return 0\n",
    "    \n",
    "    col_idx = pStr.find(\":\")\n",
    "    ret = int(pStr[:col_idx])\n",
    "    return ret\n",
    "\n",
    "def toIntSec(pStr):\n",
    "    pStr = pStr.strip()\n",
    "    if pStr == \"\":\n",
    "        return 0\n",
    "    elif len(pStr) < 1:\n",
    "        return 0\n",
    "    \n",
    "    col_idx = pStr.find(\":\")\n",
    "    ret = int(pStr[col_idx+1:])\n",
    "    return ret\n",
    "\n",
    "def convertTodigit(digit, isInt=True):\n",
    "    digit = digit.strip()\n",
    "    if digit == \"\":\n",
    "        return 0\n",
    "    elif len(digit) < 1:\n",
    "        return 0\n",
    "    \n",
    "    if isInt:\n",
    "        return int(digit)\n",
    "    else:\n",
    "        return float(digit)\n",
    "\n",
    "def convertDFdatatypes(df):\n",
    "    df[\"minutes\"] = df[\"min\"].apply(toIntMin)\n",
    "    df[\"seconds\"] = df[\"min\"].apply(toIntSec)\n",
    "    df[\"fgm\"] = df[\"fgm\"].apply(convertTodigit)\n",
    "    df[\"fga\"] = df[\"fga\"].apply(convertTodigit)\n",
    "    df[\"ftm\"] = df[\"ftm\"].apply(convertTodigit)\n",
    "    df[\"fta\"] = df[\"fta\"].apply(convertTodigit)\n",
    "    df[\"tpm\"] = df[\"tpm\"].apply(convertTodigit)\n",
    "    df[\"tpa\"] = df[\"tpa\"].apply(convertTodigit)\n",
    "    df[\"offReb\"] = df[\"offReb\"].apply(convertTodigit)\n",
    "    df[\"defReb\"] = df[\"defReb\"].apply(convertTodigit)\n",
    "    df[\"assists\"] = df[\"assists\"].apply(convertTodigit)\n",
    "    df[\"steals\"] = df[\"steals\"].apply(convertTodigit)\n",
    "    df[\"blocks\"] = df[\"blocks\"].apply(convertTodigit)\n",
    "    df[\"pFouls\"] = df[\"pFouls\"].apply(convertTodigit)\n",
    "    df[\"turnovers\"] = df[\"turnovers\"].apply(convertTodigit)\n",
    "    df[\"plusMinus\"] = df[\"plusMinus\"].apply(convertTodigit)\n",
    "    \n",
    "    return df"
   ]
  },
  {
   "cell_type": "code",
   "execution_count": 3,
   "metadata": {},
   "outputs": [],
   "source": [
    "def process(file_name):\n",
    "    with open(file_name) as json_file:\n",
    "        data = json.load(json_file)\n",
    "    \n",
    "    games = resetDict()\n",
    "    df = fillDataFrame(games, data)\n",
    "    df = convertDFdatatypes(df)\n",
    "    return df"
   ]
  },
  {
   "cell_type": "code",
   "execution_count": 29,
   "metadata": {},
   "outputs": [],
   "source": [
    "df = process('game_details.json')\n",
    "df2 = process('game_details_2.json')"
   ]
  },
  {
   "cell_type": "code",
   "execution_count": 30,
   "metadata": {},
   "outputs": [
    {
     "data": {
      "text/plain": [
       "13181"
      ]
     },
     "execution_count": 30,
     "metadata": {},
     "output_type": "execute_result"
    }
   ],
   "source": [
    "len(df)"
   ]
  },
  {
   "cell_type": "code",
   "execution_count": null,
   "metadata": {},
   "outputs": [],
   "source": [
    "len(df)"
   ]
  }
 ],
 "metadata": {
  "kernelspec": {
   "display_name": "Python 3",
   "language": "python",
   "name": "python3"
  },
  "language_info": {
   "codemirror_mode": {
    "name": "ipython",
    "version": 3
   },
   "file_extension": ".py",
   "mimetype": "text/x-python",
   "name": "python",
   "nbconvert_exporter": "python",
   "pygments_lexer": "ipython3",
   "version": "3.7.5"
  }
 },
 "nbformat": 4,
 "nbformat_minor": 2
}

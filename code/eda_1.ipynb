{
 "cells": [
  {
   "cell_type": "code",
   "execution_count": 4,
   "metadata": {},
   "outputs": [],
   "source": [
    "import pandas as pd\n",
    "# from plotnine import *\n",
    "\n",
    "# %matplotlib inline"
   ]
  },
  {
   "cell_type": "code",
   "execution_count": 6,
   "metadata": {},
   "outputs": [],
   "source": [
    "data = pd.read_csv('../datasets/gamedetails.csv')\n",
    "playerInfo = pd.read_csv('../datasets/playersinfo.csv')"
   ]
  },
  {
   "cell_type": "code",
   "execution_count": 10,
   "metadata": {},
   "outputs": [
    {
     "name": "stdout",
     "output_type": "stream",
     "text": [
      "(44514, 20)\n",
      "(132, 9)\n"
     ]
    }
   ],
   "source": [
    "print(data.shape)\n",
    "print(playerInfo.shape)\n",
    "# data.head()\n",
    "col = data.columns[1:]\n",
    "data = data[col].copy()\n",
    "\n",
    "playerInfoCol = playerInfo.columns[1:]\n",
    "playerInfo = playerInfo[playerInfoCol].copy()"
   ]
  },
  {
   "cell_type": "code",
   "execution_count": 11,
   "metadata": {},
   "outputs": [
    {
     "data": {
      "text/html": [
       "<div>\n",
       "<style scoped>\n",
       "    .dataframe tbody tr th:only-of-type {\n",
       "        vertical-align: middle;\n",
       "    }\n",
       "\n",
       "    .dataframe tbody tr th {\n",
       "        vertical-align: top;\n",
       "    }\n",
       "\n",
       "    .dataframe thead th {\n",
       "        text-align: right;\n",
       "    }\n",
       "</style>\n",
       "<table border=\"1\" class=\"dataframe\">\n",
       "  <thead>\n",
       "    <tr style=\"text-align: right;\">\n",
       "      <th></th>\n",
       "      <th>playerId</th>\n",
       "      <th>startNba</th>\n",
       "      <th>heightInMeters</th>\n",
       "      <th>weightInKilograms</th>\n",
       "    </tr>\n",
       "  </thead>\n",
       "  <tbody>\n",
       "    <tr>\n",
       "      <th>count</th>\n",
       "      <td>132.000000</td>\n",
       "      <td>132.000000</td>\n",
       "      <td>132.000000</td>\n",
       "      <td>132.000000</td>\n",
       "    </tr>\n",
       "    <tr>\n",
       "      <th>mean</th>\n",
       "      <td>71.878788</td>\n",
       "      <td>1492.795455</td>\n",
       "      <td>1.359167</td>\n",
       "      <td>66.985606</td>\n",
       "    </tr>\n",
       "    <tr>\n",
       "      <th>std</th>\n",
       "      <td>41.328886</td>\n",
       "      <td>882.637942</td>\n",
       "      <td>0.934275</td>\n",
       "      <td>46.801977</td>\n",
       "    </tr>\n",
       "    <tr>\n",
       "      <th>min</th>\n",
       "      <td>1.000000</td>\n",
       "      <td>0.000000</td>\n",
       "      <td>0.000000</td>\n",
       "      <td>0.000000</td>\n",
       "    </tr>\n",
       "    <tr>\n",
       "      <th>25%</th>\n",
       "      <td>35.750000</td>\n",
       "      <td>0.000000</td>\n",
       "      <td>0.000000</td>\n",
       "      <td>0.000000</td>\n",
       "    </tr>\n",
       "    <tr>\n",
       "      <th>50%</th>\n",
       "      <td>73.500000</td>\n",
       "      <td>2009.000000</td>\n",
       "      <td>1.960000</td>\n",
       "      <td>90.700000</td>\n",
       "    </tr>\n",
       "    <tr>\n",
       "      <th>75%</th>\n",
       "      <td>106.250000</td>\n",
       "      <td>2013.000000</td>\n",
       "      <td>2.030000</td>\n",
       "      <td>102.725000</td>\n",
       "    </tr>\n",
       "    <tr>\n",
       "      <th>max</th>\n",
       "      <td>146.000000</td>\n",
       "      <td>2016.000000</td>\n",
       "      <td>2.130000</td>\n",
       "      <td>120.200000</td>\n",
       "    </tr>\n",
       "  </tbody>\n",
       "</table>\n",
       "</div>"
      ],
      "text/plain": [
       "         playerId     startNba  heightInMeters  weightInKilograms\n",
       "count  132.000000   132.000000      132.000000         132.000000\n",
       "mean    71.878788  1492.795455        1.359167          66.985606\n",
       "std     41.328886   882.637942        0.934275          46.801977\n",
       "min      1.000000     0.000000        0.000000           0.000000\n",
       "25%     35.750000     0.000000        0.000000           0.000000\n",
       "50%     73.500000  2009.000000        1.960000          90.700000\n",
       "75%    106.250000  2013.000000        2.030000         102.725000\n",
       "max    146.000000  2016.000000        2.130000         120.200000"
      ]
     },
     "execution_count": 11,
     "metadata": {},
     "output_type": "execute_result"
    }
   ],
   "source": [
    "playerInfo.describe()"
   ]
  },
  {
   "cell_type": "code",
   "execution_count": 12,
   "metadata": {},
   "outputs": [
    {
     "data": {
      "text/plain": [
       "581     146\n",
       "514     144\n",
       "738     144\n",
       "270     143\n",
       "322     143\n",
       "       ... \n",
       "1839      1\n",
       "1123      1\n",
       "1155      1\n",
       "1151      1\n",
       "1807      1\n",
       "Name: playerId, Length: 768, dtype: int64"
      ]
     },
     "execution_count": 12,
     "metadata": {},
     "output_type": "execute_result"
    }
   ],
   "source": [
    "data[\"playerId\"].value_counts()"
   ]
  },
  {
   "cell_type": "code",
   "execution_count": null,
   "metadata": {},
   "outputs": [],
   "source": []
  }
 ],
 "metadata": {
  "kernelspec": {
   "display_name": "Python 3",
   "language": "python",
   "name": "python3"
  },
  "language_info": {
   "codemirror_mode": {
    "name": "ipython",
    "version": 3
   },
   "file_extension": ".py",
   "mimetype": "text/x-python",
   "name": "python",
   "nbconvert_exporter": "python",
   "pygments_lexer": "ipython3",
   "version": "3.6.7"
  }
 },
 "nbformat": 4,
 "nbformat_minor": 2
}
